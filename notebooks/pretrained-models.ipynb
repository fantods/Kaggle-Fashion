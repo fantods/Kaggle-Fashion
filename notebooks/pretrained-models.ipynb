{
 "cells": [
  {
   "cell_type": "code",
   "execution_count": 1,
   "metadata": {},
   "outputs": [
    {
     "name": "stderr",
     "output_type": "stream",
     "text": [
      "/Users/matt/dev/ML/kaggle-fashion/lib/python3.6/site-packages/h5py/__init__.py:36: FutureWarning: Conversion of the second argument of issubdtype from `float` to `np.floating` is deprecated. In future, it will be treated as `np.float64 == np.dtype(float).type`.\n",
      "  from ._conv import register_converters as _register_converters\n",
      "Using TensorFlow backend.\n"
     ]
    }
   ],
   "source": [
    "import json\n",
    "import numpy as np\n",
    "import pandas as pd\n",
    "import datetime as dt\n",
    "import matplotlib.pyplot as plt\n",
    "\n",
    "from mpl_toolkits.axes_grid1 import ImageGrid\n",
    "from os import listdir, makedirs\n",
    "from os.path import join, exists, expanduser\n",
    "from tqdm import tqdm\n",
    "\n",
    "from sklearn.linear_model import LogisticRegression\n",
    "from sklearn.metrics import log_loss, accuracy_score\n",
    "\n",
    "from keras.preprocessing import image\n",
    "from keras.applications.vgg16 import VGG16\n",
    "from keras.applications.vgg16 import preprocess_input, decode_predictions\n",
    "# from keras.applications.resnet50 import ResNet50\n",
    "# from keras.applications import xception\n",
    "# from keras.applications import inception_v3\n",
    "\n",
    "%matplotlib inline"
   ]
  },
  {
   "cell_type": "code",
   "execution_count": 2,
   "metadata": {},
   "outputs": [],
   "source": [
    "with open(\"../data/train.json\") as train:\n",
    "    train_json = json.load(train)\n",
    "\n",
    "df1 = pd.DataFrame(train_json['images'])\n",
    "df2 = pd.DataFrame(train_json['annotations'])\n",
    "\n",
    "# df1.head()\n",
    "\n",
    "# random_seed = 101\n",
    "\n",
    "# # Mac/Linux file paths\n",
    "# # TRAIN = glob(\"./data/train/*jpg\")\n",
    "# # TEST = glob(\"./data/test/*jpg\")\n",
    "# # df = pd.read_csv(\"./data/train.csv\")\n",
    "# # df[\"Image\"] = df[\"Image\"].map( lambda x : \"./data/train/\"+x)\n",
    "\n",
    "# ROOT = \"../data/\"\n",
    "# TRAIN = glob(\"../data/train/*jpg\")\n",
    "# TEST = glob(\"../data/test/*jpg\")\n",
    "# VALIDATION = glob(\"../data/validation/*jpg\")\n",
    "\n",
    "# with open(\"../data/train.json\") as datafile1:\n",
    "#     train_data = json.load(datafile1)\n",
    "    \n",
    "# with open(\"../data/test.json\") as datafile2:\n",
    "#     test_data = json.load(datafile2)\n",
    "    \n",
    "# with open(\"../data/validation.json\") as datafile3:\n",
    "#     valid_data = json.load(datafile3)\n",
    "    \n",
    "    \n",
    "# # df = \n",
    "\n",
    "# # ImageToLabelDict = dict( zip( df[\"Image\"], df[\"Id\"]))\n",
    "\n",
    "# # def ImportImage(filename):\n",
    "# #     \"\"\"\n",
    "# #     Import images, converting them to black and white with consistent size\n",
    "# #     \"\"\"\n",
    "# #     img = Image.open(filename).convert(\"LA\").resize((SIZE,SIZE))\n",
    "# #     return np.array(img)[:,:,0]\n",
    "\n",
    "# # x = np.array([ImportImage(img) for img in TRAIN])"
   ]
  },
  {
   "cell_type": "code",
   "execution_count": 4,
   "metadata": {},
   "outputs": [],
   "source": [
    "train=pd.merge(df1, df2, on='imageId', how='inner')"
   ]
  },
  {
   "cell_type": "code",
   "execution_count": 6,
   "metadata": {},
   "outputs": [
    {
     "data": {
      "text/plain": [
       "dtype('O')"
      ]
     },
     "execution_count": 6,
     "metadata": {},
     "output_type": "execute_result"
    }
   ],
   "source": [
    "train['labelId'].dtype"
   ]
  },
  {
   "cell_type": "code",
   "execution_count": null,
   "metadata": {},
   "outputs": [],
   "source": []
  }
 ],
 "metadata": {
  "kernelspec": {
   "display_name": "Python 3",
   "language": "python",
   "name": "python3"
  },
  "language_info": {
   "codemirror_mode": {
    "name": "ipython",
    "version": 3
   },
   "file_extension": ".py",
   "mimetype": "text/x-python",
   "name": "python",
   "nbconvert_exporter": "python",
   "pygments_lexer": "ipython3",
   "version": "3.6.5"
  }
 },
 "nbformat": 4,
 "nbformat_minor": 2
}
