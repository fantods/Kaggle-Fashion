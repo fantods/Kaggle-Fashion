{
 "cells": [
  {
   "cell_type": "code",
   "execution_count": 7,
   "metadata": {},
   "outputs": [],
   "source": [
    "import json\n",
    "import numpy as np\n",
    "import pandas as pd\n",
    "import matplotlib.pyplot as plt\n",
    "from PIL import Image\n",
    "from skimage.transform import resize\n",
    "\n",
    "from keras.utils.data_utils import Sequence\n",
    "from keras.callbacks import ModelCheckpoint, LearningRateScheduler, TensorBoard, EarlyStopping\n",
    "from keras.models import Sequential, Model\n",
    "from keras.layers import Activation, Dense, Dropout, Flatten, Convolution2D, GlobalAveragePooling2D, GlobalMaxPooling2D, MaxPooling2D\n",
    "from keras import applications\n",
    "from keras import optimizers\n",
    "\n",
    "DATA_DIR = \"../data/\"\n",
    "NUM_CLASSES = 228\n",
    "IMAGE_SIZE = 256"
   ]
  },
  {
   "cell_type": "code",
   "execution_count": 8,
   "metadata": {},
   "outputs": [
    {
     "name": "stdout",
     "output_type": "stream",
     "text": [
      "['../data/test/1.jpg', '../data/test/2.jpg', '../data/test/3.jpg']\n"
     ]
    }
   ],
   "source": [
    "with open(DATA_DIR + \"test.json\") as test:\n",
    "    test_json = json.load(test)\n",
    "    \n",
    "# test_urls = [obj['url'] for obj in test_json['images']]\n",
    "test_paths = [\"../data/test/{}.jpg\".format(obj['imageId']) for obj in test_json['images']]\n",
    "print(test_paths[:3])"
   ]
  },
  {
   "cell_type": "code",
   "execution_count": 9,
   "metadata": {},
   "outputs": [],
   "source": [
    "conv_base = applications.VGG19(weights = \"imagenet\", include_top=False, input_shape = (IMAGE_SIZE, IMAGE_SIZE, 3))\n",
    "for layer in conv_base.layers[:5]:\n",
    "    layer.trainable = False\n",
    "model = Sequential()\n",
    "model.add(conv_base)\n",
    "model.add(Flatten())\n",
    "model.add(Dense(1024, activation='relu'))\n",
    "model.add(Dropout(0.5))\n",
    "model.add(Dense(1024, activation='relu'))\n",
    "model.add(Dense(NUM_CLASSES, activation='softmax'))\n",
    "model.load_weights(DATA_DIR + \"weights-improvement-04-0.05.hdf5\")\n",
    "model.compile(\n",
    "    loss = \"categorical_crossentropy\", \n",
    "    optimizer = optimizers.SGD(lr=0.0001, momentum=0.9), \n",
    "    metrics=[\"accuracy\"]\n",
    ")\n",
    "\n",
    "# model = Sequential()\n",
    "# model.add(Convolution2D(32, kernel_size=(3, 3),padding='same',input_shape=(IMAGE_SIZE, IMAGE_SIZE, 3)))\n",
    "# model.add(Activation('relu'))\n",
    "# model.add(Convolution2D(32, (3, 3)))\n",
    "# model.add(Activation('relu'))\n",
    "# model.add(MaxPooling2D(pool_size=(2, 2)))\n",
    "# model.add(Dropout(0.25))\n",
    "\n",
    "# model.add(Convolution2D(64,(3, 3), padding='same'))\n",
    "# model.add(Activation('relu'))\n",
    "# model.add(Convolution2D(64, (3, 3)))\n",
    "# model.add(Activation('relu'))\n",
    "# model.add(MaxPooling2D(pool_size=(2, 2)))\n",
    "# model.add(Dropout(0.25))\n",
    "\n",
    "# model.add(Flatten())\n",
    "# model.add(Dense(512))\n",
    "# model.add(Activation('relu'))\n",
    "# model.add(Dropout(0.5))\n",
    "# model.add(Dense(NUM_CLASSES, activation='sigmoid'))\n",
    "\n",
    "# sgd = SGD(lr=0.01, decay=1e-6, momentum=0.9, nesterov=True)\n",
    "# model.compile(loss='binary_crossentropy', optimizer=sgd, metrics=['accuracy'])\n",
    "# print(model.summary())\n"
   ]
  },
  {
   "cell_type": "code",
   "execution_count": 11,
   "metadata": {},
   "outputs": [],
   "source": [
    "class TestBatchSequence(Sequence):\n",
    "    def __init__(self, x_set, batch_size, resize = False):\n",
    "        self.x = x_set\n",
    "        self.batch_size = batch_size\n",
    "        self.resize = resize\n",
    "\n",
    "    def __len__(self):\n",
    "        return int(np.ceil(len(self.x) / float(self.batch_size)))\n",
    "\n",
    "    def __getitem__(self, idx):\n",
    "        batch_x = self.x[idx * self.batch_size:(idx + 1) * self.batch_size]\n",
    "        images = np.empty([len(batch_x), IMAGE_SIZE, IMAGE_SIZE, 3])\n",
    "        for i, path in enumerate(batch_x):\n",
    "            try:\n",
    "                if self.resize:\n",
    "                    img = Image.open(path)\n",
    "                    img.thumbnail((IMAGE_SIZE, IMAGE_SIZE))\n",
    "                    image = np.array(img)\n",
    "                else:\n",
    "                    image = np.array(Image.open(path))\n",
    "            except Exception as e:\n",
    "                print(e)\n",
    "                output = [1]*(IMAGE_SIZE*IMAGE_SIZE*3)\n",
    "                output = np.array(output).reshape(IMAGE_SIZE,IMAGE_SIZE,3).astype('uint8')\n",
    "                image = Image.fromarray(output).convert('RGB')\n",
    "            images[i, ...] = image\n",
    "        return images "
   ]
  },
  {
   "cell_type": "code",
   "execution_count": 12,
   "metadata": {},
   "outputs": [
    {
     "name": "stdout",
     "output_type": "stream",
     "text": [
      "621/621 [==============================] - ETA: 31:3 - ETA: 17:4 - ETA: 13:0 - ETA: 10:4 - ETA: 9:2 - ETA: 8: - ETA: 7: - ETA: 7: - ETA: 6: - ETA: 6: - ETA: 6: - ETA: 6: - ETA: 5: - ETA: 5: - ETA: 5: - ETA: 5: - ETA: 5: - ETA: 5: - ETA: 5: - ETA: 5: - ETA: 5: - ETA: 5: - ETA: 5: - ETA: 4: - ETA: 4: - ETA: 4: - ETA: 4: - ETA: 4: - ETA: 4: - ETA: 4: - ETA: 4: - ETA: 4: - ETA: 4: - ETA: 4: - ETA: 4: - ETA: 4: - ETA: 4: - ETA: 4: - ETA: 4: - ETA: 4: - ETA: 4: - ETA: 4: - ETA: 4: - ETA: 4: - ETA: 4: - ETA: 4: - ETA: 4: - ETA: 4: - ETA: 4: - ETA: 4: - ETA: 4: - ETA: 4: - ETA: 4: - ETA: 4: - ETA: 4: - ETA: 4: - ETA: 4: - ETA: 4: - ETA: 4: - ETA: 4: - ETA: 4: - ETA: 4: - ETA: 4: - ETA: 3: - ETA: 3: - ETA: 3: - ETA: 3: - ETA: 3: - ETA: 3: - ETA: 3: - ETA: 3: - ETA: 3: - ETA: 3: - ETA: 3: - ETA: 3: - ETA: 3: - ETA: 3: - ETA: 3: - ETA: 3: - ETA: 3: - ETA: 3: - ETA: 3: - ETA: 3: - ETA: 3: - ETA: 3: - ETA: 3: - ETA: 3: - ETA: 3: - ETA: 3: - ETA: 3: - ETA: 3: - ETA: 3: - ETA: 3: - ETA: 3: - ETA: 3: - ETA: 3: - ETA: 3: - ETA: 3: - ETA: 3: - ETA: 3: - ETA: 3: - ETA: 3: - ETA: 3: - ETA: 3: - ETA: 3: - ETA: 3: - ETA: 3: - ETA: 3: - ETA: 3: - ETA: 3: - ETA: 3: - ETA: 3: - ETA: 3: - ETA: 3: - ETA: 3: - ETA: 3: - ETA: 3: - ETA: 3: - ETA: 3: - ETA: 3: - ETA: 3: - ETA: 3: - ETA: 3: - ETA: 3: - ETA: 3: - ETA: 3: - ETA: 3: - ETA: 3: - ETA: 3: - ETA: 3: - ETA: 3: - ETA: 3: - ETA: 3: - ETA: 3: - ETA: 3: - ETA: 3: - ETA: 3: - ETA: 3: - ETA: 3: - ETA: 3: - ETA: 3: - ETA: 3: - ETA: 3: - ETA: 3: - ETA: 3: - ETA: 3: - ETA: 3: - ETA: 3: - ETA: 3: - ETA: 3: - ETA: 3: - ETA: 3: - ETA: 3: - ETA: 3: - ETA: 3: - ETA: 3: - ETA: 3: - ETA: 3: - ETA: 3: - ETA: 3: - ETA: 3: - ETA: 3: - ETA: 3: - ETA: 3: - ETA: 3: - ETA: 3: - ETA: 3: - ETA: 3: - ETA: 3: - ETA: 3: - ETA: 3: - ETA: 3: - ETA: 3: - ETA: 3: - ETA: 3: - ETA: 3: - ETA: 2: - ETA: 2: - ETA: 2: - ETA: 2: - ETA: 2: - ETA: 2: - ETA: 2: - ETA: 2: - ETA: 2: - ETA: 2: - ETA: 2: - ETA: 2: - ETA: 2: - ETA: 2: - ETA: 2: - ETA: 2: - ETA: 2: - ETA: 2: - ETA: 2: - ETA: 2: - ETA: 2: - ETA: 2: - ETA: 2: - ETA: 2: - ETA: 2: - ETA: 2: - ETA: 2: - ETA: 2: - ETA: 2: - ETA: 2: - ETA: 2: - ETA: 2: - ETA: 2: - ETA: 2: - ETA: 2: - ETA: 2: - ETA: 2: - ETA: 2: - ETA: 2: - ETA: 2: - ETA: 2: - ETA: 2: - ETA: 2: - ETA: 2: - ETA: 2: - ETA: 2: - ETA: 2: - ETA: 2: - ETA: 2: - ETA: 2: - ETA: 2: - ETA: 2: - ETA: 2: - ETA: 2: - ETA: 2: - ETA: 2: - ETA: 2: - ETA: 2: - ETA: 2: - ETA: 2: - ETA: 2: - ETA: 2: - ETA: 2: - ETA: 2: - ETA: 2: - ETA: 2: - ETA: 2: - ETA: 2: - ETA: 2: - ETA: 2: - ETA: 2: - ETA: 2: - ETA: 2: - ETA: 2: - ETA: 2: - ETA: 2: - ETA: 2: - ETA: 2: - ETA: 2: - ETA: 2: - ETA: 2: - ETA: 2: - ETA: 2: - ETA: 2: - ETA: 2: - ETA: 2: - ETA: 2: - ETA: 2: - ETA: 2: - ETA: 2: - ETA: 2: - ETA: 2: - ETA: 2: - ETA: 2: - ETA: 2: - ETA: 2: - ETA: 2: - ETA: 2: - ETA: 2: - ETA: 2: - ETA: 2: - ETA: 2: - ETA: 2: - ETA: 2: - ETA: 2: - ETA: 2: - ETA: 2: - ETA: 2: - ETA: 2: - ETA: 2: - ETA: 2: - ETA: 2: - ETA: 2: - ETA: 2: - ETA: 2: - ETA: 2: - ETA: 2: - ETA: 2: - ETA: 2: - ETA: 2: - ETA: 2: - ETA: 2: - ETA: 2: - ETA: 2: - ETA: 2: - ETA: 2: - ETA: 2: - ETA: 2: - ETA: 2: - ETA: 2: - ETA: 2: - ETA: 2: - ETA: 2: - ETA: 2: - ETA: 2: - ETA: 2: - ETA: 2: - ETA: 2: - ETA: 2: - ETA: 2: - ETA: 2: - ETA: 2: - ETA: 2: - ETA: 2: - ETA: 1: - ETA: 1: - ETA: 1: - ETA: 1: - ETA: 1: - ETA: 1: - ETA: 1: - ETA: 1: - ETA: 1: - ETA: 1: - ETA: 1: - ETA: 1: - ETA: 1: - ETA: 1: - ETA: 1: - ETA: 1: - ETA: 1: - ETA: 1: - ETA: 1: - ETA: 1: - ETA: 1: - ETA: 1: - ETA: 1: - ETA: 1: - ETA: 1: - ETA: 1: - ETA: 1: - ETA: 1: - ETA: 1: - ETA: 1: - ETA: 1: - ETA: 1: - ETA: 1: - ETA: 1: - ETA: 1: - ETA: 1: - ETA: 1: - ETA: 1: - ETA: 1: - ETA: 1: - ETA: 1: - ETA: 1: - ETA: 1: - ETA: 1: - ETA: 1: - ETA: 1: - ETA: 1: - ETA: 1: - ETA: 1: - ETA: 1: - ETA: 1: - ETA: 1: - ETA: 1: - ETA: 1: - ETA: 1: - ETA: 1: - ETA: 1: - ETA: 1: - ETA: 1: - ETA: 1: - ETA: 1: - ETA: 1: - ETA: 1: - ETA: 1: - ETA: 1: - ETA: 1: - ETA: 1: - ETA: 1: - ETA: 1: - ETA: 1: - ETA: 1: - ETA: 1: - ETA: 1: - ETA: 1: - ETA: 1: - ETA: 1: - ETA: 1: - ETA: 1: - ETA: 1: - ETA: 1: - ETA: 1: - ETA: 1: - ETA: 1: - ETA: 1: - ETA: 1: - ETA: 1: - ETA: 1: - ETA: 1: - ETA: 1: - ETA: 1: - ETA: 1: - ETA: 1: - ETA: 1: - ETA: 1: - ETA: 1: - ETA: 1: - ETA: 1: - ETA: 1: - ETA: 1: - ETA: 1: - ETA: 1: - ETA: 1: - ETA: 1: - ETA: 1: - ETA: 1: - ETA: 1: - ETA: 1: - ETA: 1: - ETA: 1: - ETA: 1: - ETA: 1: - ETA: 1: - ETA: 1: - ETA: 1: - ETA: 1: - ETA: 1: - ETA: 1: - ETA: 1: - ETA: 1: - ETA: 1: - ETA: 1: - ETA: 1: - ETA: 1: - ETA: 1: - ETA: 1: - ETA: 1: - ETA: 1: - ETA: 1: - ETA: 1: - ETA: 1: - ETA: 1: - ETA: 1: - ETA: 1: - ETA: 1: - ETA: 1: - ETA: 1: - ETA: 1: - ETA: 1: - ETA: 1: - ETA: 1: - ETA: 1: - ETA: 1: - ETA: 1: - ETA: 1: - ETA: 1: - ETA: 1: - ETA: 1: - ETA: 1: - ETA: 1: - ETA: 59s - ETA: 59 - ETA: 58 - ETA: 58 - ETA: 58 - ETA: 57 - ETA: 57 - ETA: 57 - ETA: 56 - ETA: 56 - ETA: 55 - ETA: 55 - ETA: 55 - ETA: 54 - ETA: 54 - ETA: 53 - ETA: 53 - ETA: 53 - ETA: 52 - ETA: 52 - ETA: 51 - ETA: 51 - ETA: 51 - ETA: 50 - ETA: 50 - ETA: 49 - ETA: 49 - ETA: 49 - ETA: 48 - ETA: 48 - ETA: 47 - ETA: 47 - ETA: 47 - ETA: 46 - ETA: 46 - ETA: 45 - ETA: 45 - ETA: 45 - ETA: 44 - ETA: 44 - ETA: 43 - ETA: 43 - ETA: 43 - ETA: 42 - ETA: 42 - ETA: 41 - ETA: 41 - ETA: 41 - ETA: 40 - ETA: 40 - ETA: 40 - ETA: 39 - ETA: 39 - ETA: 38 - ETA: 38 - ETA: 38 - ETA: 37 - ETA: 37 - ETA: 36 - ETA: 36 - ETA: 36 - ETA: 35 - ETA: 35 - ETA: 34 - ETA: 34 - ETA: 34 - ETA: 33 - ETA: 33 - ETA: 32 - ETA: 32 - ETA: 32 - ETA: 31 - ETA: 31 - ETA: 30 - ETA: 30 - ETA: 30 - ETA: 29 - ETA: 29 - ETA: 28 - ETA: 28 - ETA: 28 - ETA: 27 - ETA: 27 - ETA: 26 - ETA: 26 - ETA: 26 - ETA: 25 - ETA: 25 - ETA: 24 - ETA: 24 - ETA: 24 - ETA: 23 - ETA: 23 - ETA: 22 - ETA: 22 - ETA: 22 - ETA: 21 - ETA: 21 - ETA: 20 - ETA: 20 - ETA: 20 - ETA: 19 - ETA: 19 - ETA: 19 - ETA: 18 - ETA: 18 - ETA: 17 - ETA: 17 - ETA: 17 - ETA: 16 - ETA: 16 - ETA: 15 - ETA: 15 - ETA: 15 - ETA: 14 - ETA: 14 - ETA: 13 - ETA: 13 - ETA: 13 - ETA: 12 - ETA: 12 - ETA: 11 - ETA: 11 - ETA: 11 - ETA: 10 - ETA: 10 - ETA: 9 - ETA:  - ETA:  - ETA:  - ETA:  - ETA:  - ETA:  - ETA:  - ETA:  - ETA:  - ETA:  - ETA:  - ETA:  - ETA:  - ETA:  - ETA:  - ETA:  - ETA:  - ETA:  - ETA:  - ETA:  - ETA:  - ETA:  - ETA:  - ETA:  - 246s 397ms/step\n",
      "Wall time: 4min 6s\n"
     ]
    }
   ],
   "source": [
    "%%time\n",
    "BATCH = 64\n",
    "STEPS = len(test_paths) // BATCH\n",
    "\n",
    "test_seq = TestBatchSequence(test_paths, BATCH)\n",
    "\n",
    "probs = model.predict_generator(\n",
    "    test_seq,\n",
    "    steps = STEPS + 1,\n",
    "    workers = 5,\n",
    "    verbose = 1\n",
    ")\n"
   ]
  },
  {
   "cell_type": "code",
   "execution_count": 27,
   "metadata": {},
   "outputs": [
    {
     "name": "stdout",
     "output_type": "stream",
     "text": [
      "[[17, 36, 62, 66, 105, 214, 225], [17, 20, 62, 66, 105, 154, 164, 214], [2, 44, 66, 71, 139, 154, 158, 180, 186], [53, 66, 82, 138, 153, 164, 190], [36, 62, 66, 70, 133, 153, 171, 184]]\n"
     ]
    }
   ],
   "source": [
    "def generate_prob_labels(probas):\n",
    "    label_preds = []\n",
    "    for i in range(len(probas)):\n",
    "        labels = []\n",
    "        proba = list(probas[i])\n",
    "        for i, elem in enumerate(proba):\n",
    "            if elem > 0.04:\n",
    "                labels.append(i + 1)\n",
    "        label_preds.append(labels)\n",
    "    return label_preds\n",
    "\n",
    "prob_labels = generate_prob_labels(probs)\n",
    "print(prob_labels[:5])\n",
    "# print(generate_prob_labels"
   ]
  },
  {
   "cell_type": "code",
   "execution_count": 28,
   "metadata": {},
   "outputs": [],
   "source": [
    "# images = [np.array(Image.open(path)) for path in test_paths[:1000]]\n",
    "# subset = test_paths[:1000]\n",
    "images = np.empty([len(test_paths), IMAGE_SIZE, IMAGE_SIZE, 3], dtype='uint8')\n",
    "for i, path in enumerate(test_paths):\n",
    "    try:\n",
    "        image = np.array(Image.open(path))\n",
    "    except Exception as e:\n",
    "        print(e)\n",
    "        output = [1]*(IMAGE_SIZE*IMAGE_SIZE*3)\n",
    "        output = np.array(output).reshape(IMAGE_SIZE,IMAGE_SIZE,3).astype('uint8')\n",
    "        image = Image.fromarray(output).convert('RGB')\n",
    "    images[i, ...] = image\n",
    "\n",
    "evals = model.predict_proba(images)"
   ]
  },
  {
   "cell_type": "code",
   "execution_count": 10,
   "metadata": {
    "scrolled": true
   },
   "outputs": [
    {
     "name": "stdout",
     "output_type": "stream",
     "text": [
      "(39706, 228)\n",
      "[1, 10, 11, 12, 14, 15, 16, 17, 19, 21, 28, 29, 32, 36, 41, 43, 44, 45, 46, 47, 48, 49, 53, 56, 57, 62, 63, 66, 67, 71, 74, 75, 76, 78, 83, 87, 88, 89, 90, 92, 93, 94, 95, 96, 99, 106, 107, 108, 113, 115, 118, 119, 120, 123, 128, 131, 132, 133, 134, 136, 139, 140, 142, 143, 147, 148, 151, 152, 153, 157, 158, 161, 164, 165, 169, 171, 179, 182, 184, 185, 186, 189, 191, 194, 196, 197, 198, 205, 207, 209, 212, 215, 216, 218, 219, 221, 224, 225, 228]\n",
      "[1, 10, 11, 12, 14, 15, 16, 17, 19, 21, 28, 29, 32, 36, 41, 43, 44, 45, 46, 47, 48, 49, 53, 56, 57, 62, 63, 66, 67, 71, 74, 75, 76, 78, 83, 88, 89, 90, 92, 93, 94, 95, 96, 98, 99, 106, 107, 108, 113, 115, 118, 119, 120, 123, 128, 131, 132, 133, 134, 136, 139, 140, 142, 143, 147, 148, 151, 152, 153, 157, 158, 161, 164, 165, 169, 171, 179, 182, 184, 185, 186, 189, 194, 196, 197, 198, 205, 207, 209, 212, 215, 216, 218, 219, 221, 224, 225, 228]\n",
      "[1, 10, 11, 12, 14, 15, 16, 17, 19, 21, 28, 29, 32, 36, 41, 43, 44, 45, 46, 47, 48, 49, 53, 56, 57, 62, 63, 66, 67, 71, 74, 75, 76, 78, 83, 87, 88, 89, 90, 92, 93, 94, 95, 96, 99, 106, 107, 108, 113, 115, 118, 119, 120, 123, 128, 131, 132, 133, 134, 136, 139, 140, 142, 143, 147, 148, 151, 152, 153, 157, 158, 161, 164, 165, 169, 171, 179, 182, 184, 185, 186, 189, 191, 194, 196, 197, 198, 205, 207, 209, 212, 215, 216, 218, 219, 221, 224, 225, 228]\n",
      "[1, 10, 11, 12, 14, 15, 16, 17, 19, 21, 28, 29, 32, 36, 41, 43, 44, 45, 46, 47, 48, 49, 53, 57, 62, 63, 66, 67, 71, 74, 75, 76, 78, 83, 88, 89, 90, 92, 93, 94, 95, 96, 99, 106, 107, 108, 113, 115, 118, 119, 120, 123, 128, 131, 132, 133, 134, 136, 139, 140, 142, 143, 147, 148, 151, 152, 153, 157, 158, 161, 164, 165, 169, 171, 176, 179, 182, 184, 185, 186, 189, 191, 194, 196, 197, 198, 205, 207, 209, 212, 215, 216, 219, 221, 224, 225, 228]\n",
      "[1, 10, 11, 12, 14, 15, 16, 17, 19, 21, 28, 29, 32, 36, 41, 43, 44, 45, 46, 47, 48, 49, 53, 57, 62, 63, 66, 67, 71, 74, 75, 76, 78, 83, 88, 89, 90, 92, 93, 94, 95, 96, 99, 106, 107, 108, 113, 115, 118, 119, 120, 123, 128, 131, 132, 133, 134, 136, 139, 140, 142, 143, 147, 148, 151, 152, 153, 157, 158, 161, 164, 165, 169, 171, 176, 179, 182, 184, 185, 186, 189, 191, 194, 196, 197, 198, 205, 207, 209, 212, 215, 216, 219, 221, 224, 225, 228]\n",
      "[1, 10, 11, 12, 14, 15, 16, 17, 19, 21, 28, 29, 32, 36, 41, 43, 44, 45, 46, 47, 48, 49, 53, 57, 62, 63, 66, 67, 71, 74, 75, 76, 78, 83, 88, 89, 90, 92, 93, 94, 95, 96, 99, 103, 106, 107, 108, 113, 115, 118, 119, 120, 123, 128, 131, 132, 133, 134, 136, 139, 140, 142, 143, 147, 148, 151, 152, 153, 157, 158, 161, 164, 165, 169, 171, 176, 179, 182, 184, 185, 186, 189, 191, 194, 196, 197, 198, 205, 207, 209, 212, 215, 216, 219, 221, 224, 225, 228]\n",
      "[1, 10, 11, 12, 14, 15, 16, 17, 19, 28, 29, 32, 36, 41, 43, 45, 46, 47, 48, 49, 53, 57, 62, 63, 66, 67, 71, 74, 75, 76, 78, 83, 88, 89, 90, 92, 93, 94, 95, 96, 99, 106, 107, 108, 113, 115, 118, 119, 120, 123, 128, 131, 132, 133, 134, 136, 139, 140, 142, 143, 147, 148, 151, 152, 153, 157, 158, 161, 164, 165, 169, 171, 176, 179, 182, 184, 185, 186, 189, 191, 194, 196, 197, 198, 205, 207, 209, 212, 215, 216, 218, 219, 221, 224, 225, 228]\n",
      "[1, 10, 11, 12, 14, 15, 16, 17, 19, 28, 29, 32, 36, 41, 43, 45, 46, 47, 48, 49, 53, 57, 62, 63, 66, 67, 71, 74, 75, 76, 78, 83, 88, 89, 90, 92, 93, 94, 95, 96, 99, 106, 107, 108, 113, 115, 118, 119, 120, 123, 128, 131, 132, 133, 134, 136, 139, 140, 142, 143, 147, 148, 151, 152, 153, 157, 158, 161, 164, 165, 169, 171, 176, 179, 182, 184, 185, 186, 189, 191, 194, 196, 197, 198, 205, 207, 209, 212, 215, 216, 219, 221, 224, 225, 228]\n",
      "[1, 10, 11, 12, 14, 15, 16, 17, 19, 28, 29, 32, 36, 41, 43, 45, 46, 47, 48, 49, 53, 56, 57, 62, 63, 66, 67, 71, 74, 75, 76, 78, 83, 88, 89, 90, 92, 93, 94, 95, 96, 98, 99, 106, 107, 108, 113, 115, 118, 119, 120, 123, 128, 131, 132, 133, 134, 136, 139, 140, 142, 143, 147, 148, 151, 152, 153, 157, 158, 161, 164, 165, 169, 171, 179, 182, 184, 185, 186, 189, 194, 196, 197, 198, 205, 207, 209, 212, 215, 216, 218, 219, 221, 224, 225, 228]\n",
      "[1, 10, 11, 12, 14, 15, 16, 17, 19, 21, 28, 29, 32, 36, 43, 44, 45, 46, 47, 48, 49, 53, 57, 62, 63, 66, 67, 71, 74, 75, 76, 78, 83, 88, 89, 90, 92, 93, 94, 95, 96, 99, 103, 106, 107, 108, 113, 115, 118, 119, 120, 123, 128, 131, 132, 133, 134, 136, 139, 140, 142, 143, 147, 148, 151, 152, 153, 157, 158, 161, 164, 165, 169, 171, 176, 179, 182, 184, 185, 186, 189, 191, 194, 196, 197, 198, 205, 207, 209, 212, 215, 216, 219, 221, 224, 225, 228]\n"
     ]
    }
   ],
   "source": [
    "print(probs.shape)\n",
    "# print(evals.shape)\n",
    "\n",
    "def generate_label_predictions(probas):\n",
    "    label_preds = []\n",
    "    for i in range(len(probas)):\n",
    "        labels = []\n",
    "        proba = list(probas[i])\n",
    "        for i, elem in enumerate(proba):\n",
    "            if elem == 1.0:\n",
    "                labels.append(i + 1)\n",
    "        label_preds.append(labels)\n",
    "    return label_preds\n",
    "\n",
    "label_predicts = generate_label_predictions(probs)\n",
    "\n",
    "for i in range(10):\n",
    "    print(label_predicts[i])"
   ]
  },
  {
   "cell_type": "code",
   "execution_count": 29,
   "metadata": {},
   "outputs": [
    {
     "data": {
      "application/vnd.jupyter.widget-view+json": {
       "model_id": "3da57430336a4a50b6174c23a6a7a33e",
       "version_major": 2,
       "version_minor": 0
      },
      "text/html": [
       "<p>Failed to display Jupyter Widget of type <code>HBox</code>.</p>\n",
       "<p>\n",
       "  If you're reading this message in the Jupyter Notebook or JupyterLab Notebook, it may mean\n",
       "  that the widgets JavaScript is still loading. If this message persists, it\n",
       "  likely means that the widgets JavaScript library is either not installed or\n",
       "  not enabled. See the <a href=\"https://ipywidgets.readthedocs.io/en/stable/user_install.html\">Jupyter\n",
       "  Widgets Documentation</a> for setup instructions.\n",
       "</p>\n",
       "<p>\n",
       "  If you're reading this message in another frontend (for example, a static\n",
       "  rendering on GitHub or <a href=\"https://nbviewer.jupyter.org/\">NBViewer</a>),\n",
       "  it may mean that your frontend doesn't currently support widgets.\n",
       "</p>\n"
      ],
      "text/plain": [
       "HBox(children=(IntProgress(value=0, max=39706), HTML(value='')))"
      ]
     },
     "metadata": {},
     "output_type": "display_data"
    },
    {
     "name": "stdout",
     "output_type": "stream",
     "text": [
      "\n"
     ]
    }
   ],
   "source": [
    "with open(\"submission-4-6-2018.csv\",\"w\") as f:\n",
    "    f.write(\"image_id,label_id\\n\")\n",
    "    for i, labels in tqdm(enumerate(prob_labels), total = len(prob_labels)):\n",
    "        output_labels = \" \".join(str(x) for x in labels)\n",
    "        f.write(\"{},{}\\n\".format(i + 1, output_labels))\n",
    "\n",
    "# with open(\"submission-6.1.csv\",\"w\") as f:\n",
    "#     f.write(\"image_id, label_id\\n\")\n",
    "#     for i, labels in tqdm(enumerate(label_predicts), total = len(label_predicts)):\n",
    "#         output_labels = \" \".join(str(x) for x in labels)\n",
    "#         f.write(\"{}, {}\\n\".format(i + 1, output_labels))"
   ]
  },
  {
   "cell_type": "code",
   "execution_count": 12,
   "metadata": {},
   "outputs": [],
   "source": [
    "def path_to_image(path):\n",
    "    img = Image.open(path)\n",
    "    img.thumbnail((IMAGE_SIZE, IMAGE_SIZE))\n",
    "    image = np.array(img)\n",
    "    return image\n",
    "#     return np.array(Image.open(path))"
   ]
  },
  {
   "cell_type": "code",
   "execution_count": null,
   "metadata": {},
   "outputs": [
    {
     "data": {
      "application/vnd.jupyter.widget-view+json": {
       "model_id": "b9b849ca41324305bfa7113c2b1477ae",
       "version_major": 2,
       "version_minor": 0
      },
      "text/html": [
       "<p>Failed to display Jupyter Widget of type <code>HBox</code>.</p>\n",
       "<p>\n",
       "  If you're reading this message in the Jupyter Notebook or JupyterLab Notebook, it may mean\n",
       "  that the widgets JavaScript is still loading. If this message persists, it\n",
       "  likely means that the widgets JavaScript library is either not installed or\n",
       "  not enabled. See the <a href=\"https://ipywidgets.readthedocs.io/en/stable/user_install.html\">Jupyter\n",
       "  Widgets Documentation</a> for setup instructions.\n",
       "</p>\n",
       "<p>\n",
       "  If you're reading this message in another frontend (for example, a static\n",
       "  rendering on GitHub or <a href=\"https://nbviewer.jupyter.org/\">NBViewer</a>),\n",
       "  it may mean that your frontend doesn't currently support widgets.\n",
       "</p>\n"
      ],
      "text/plain": [
       "HBox(children=(IntProgress(value=0, max=39706), HTML(value='')))"
      ]
     },
     "metadata": {},
     "output_type": "display_data"
    }
   ],
   "source": [
    "with open(\"submission.csv\",\"w\") as f:\n",
    "    f.write(\"image_id,label_id\\n\")\n",
    "    for i, image_url in tqdm(enumerate(test_paths), total = len(test_paths)):\n",
    "        # image = url_to_image(image_url)\n",
    "        image = path_to_image(DATA_DIR + \"test/{}.jpg\".format(i + 1))\n",
    "        prob = model.predict_proba(image.reshape(1, IMAGE_SIZE, IMAGE_SIZE, 3))\n",
    "        sorted_args = np.argsort(prob)[0][::-1][:10]\n",
    "        output_labels = \" \".join(str(x) for x in sorted_args)\n",
    "#         print(\"{}, {}\\n\".format(i + 1, output_labels))\n",
    "        f.write(\"{},{}\\n\".format(i + 1, output_labels))"
   ]
  },
  {
   "cell_type": "code",
   "execution_count": null,
   "metadata": {},
   "outputs": [],
   "source": []
  }
 ],
 "metadata": {
  "kernelspec": {
   "display_name": "Python 3",
   "language": "python",
   "name": "python3"
  },
  "language_info": {
   "codemirror_mode": {
    "name": "ipython",
    "version": 3
   },
   "file_extension": ".py",
   "mimetype": "text/x-python",
   "name": "python",
   "nbconvert_exporter": "python",
   "pygments_lexer": "ipython3",
   "version": "3.6.4"
  }
 },
 "nbformat": 4,
 "nbformat_minor": 2
}
